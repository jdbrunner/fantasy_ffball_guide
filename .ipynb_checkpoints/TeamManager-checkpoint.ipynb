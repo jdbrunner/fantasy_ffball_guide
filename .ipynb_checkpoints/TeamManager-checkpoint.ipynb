{
 "cells": [
  {
   "cell_type": "code",
   "execution_count": 2,
   "metadata": {},
   "outputs": [],
   "source": [
    "%run lineup_pickup_trade.py\n",
    "week = 5\n",
    "Roster['SUPERFLEX'] = 1\n",
    "Roster['K'] = 0\n",
    "User = \"Not a Robot\"\n",
    "LeaguePage = \"https://football.fantasysports.yahoo.com/f1/342679/starters\"\n",
    "# LeagueMembers = ['Ryan', 'Vince', 'Nathan', 'Nick', 'Arthur', 'Jim', 'Dylan', 'Connor', 'Lucas', 'Shayne']"
   ]
  },
  {
   "cell_type": "code",
   "execution_count": null,
   "metadata": {},
   "outputs": [],
   "source": [
    "# week = 5"
   ]
  },
  {
   "cell_type": "code",
   "execution_count": null,
   "metadata": {},
   "outputs": [],
   "source": [
    "# download_info(\"half\")"
   ]
  },
  {
   "cell_type": "markdown",
   "metadata": {},
   "source": [
    "Yahoo leagues: LeagueMembers must be given in the order they appear on the LeaguePage, which is the URL of the \"Starting Rosters\" page under \"League\" dropdown on yahoo fantasy football site."
   ]
  },
  {
   "cell_type": "code",
   "execution_count": null,
   "metadata": {},
   "outputs": [],
   "source": [
    "# User = \"Jim\"\n",
    "# LeaguePage = \"https://football.fantasysports.yahoo.com/f1/342679/starters\"\n",
    "# LeagueMembers = ['Ryan', 'Vince', 'Nathan', 'Nick', 'Arthur', 'Jim', 'Dylan', 'Connor', 'Lucas', 'Shayne']"
   ]
  },
  {
   "cell_type": "code",
   "execution_count": null,
   "metadata": {},
   "outputs": [],
   "source": [
    "# Roster['SUPERFLEX'] = 1\n",
    "# Roster['K'] = 0"
   ]
  },
  {
   "cell_type": "code",
   "execution_count": null,
   "metadata": {},
   "outputs": [],
   "source": [
    "# for p in Roster:\n",
    "#     if p != 'FLEX' and p != 'SUPERFLEX' and p != 'BENCH':\n",
    "#         save_histpoints(p)"
   ]
  },
  {
   "cell_type": "code",
   "execution_count": 3,
   "metadata": {
    "scrolled": true
   },
   "outputs": [
    {
     "name": "stderr",
     "output_type": "stream",
     "text": [
      "/Users/m197894/Dropbox/ffball/fantasy_ffball_guide/lineup_pickup_trade.py:266: UserWarning: No parser was explicitly specified, so I'm using the best available HTML parser for this system (\"lxml\"). This usually isn't a problem, but if you run this code on another system, or in a different virtual environment, it may use a different parser and behave differently.\n",
      "\n",
      "The code that caused this warning is on line 266 of the file /Users/m197894/Dropbox/ffball/fantasy_ffball_guide/lineup_pickup_trade.py. To get rid of this warning, pass the additional argument 'features=\"lxml\"' to the BeautifulSoup constructor.\n",
      "\n",
      "  sp = BeautifulSoup(req.text)\n"
     ]
    }
   ],
   "source": [
    "LeagueInfo = initialize_league(week,\"half\",LeaguePage)#,LeagueMembers)\n",
    "Players = LeagueInfo[0]\n",
    "ByPosition = LeagueInfo[1]\n",
    "Rankings = LeagueInfo[2]\n",
    "Matchups = LeagueInfo[3]\n",
    "SnapInfo = LeagueInfo[4]\n",
    "Targets = LeagueInfo[5]\n",
    "DefenseStats = LeagueInfo[6]\n",
    "KickerStats = LeagueInfo[7]\n",
    "TakenPlayers = LeagueInfo[8]\n",
    "AvailablePlayers = LeagueInfo[9]\n",
    "AvailableByPosition = LeagueInfo[10]\n",
    "FantasyRosters = LeagueInfo[11]\n",
    "HistoricalStats = LeagueInfo[12]"
   ]
  },
  {
   "cell_type": "code",
   "execution_count": 4,
   "metadata": {
    "scrolled": true
   },
   "outputs": [],
   "source": [
    "WeekAnalysis = this_week(AvailableByPosition,ByPosition,FantasyRosters[User],Roster)\n",
    "Starters = WeekAnalysis[0]\n",
    "Bench = WeekAnalysis[1]\n",
    "SuggestedStreamers = WeekAnalysis[2]\n",
    "MyPlayersWeekly = WeekAnalysis[3]\n",
    "AvailableWeekly = WeekAnalysis[4]"
   ]
  },
  {
   "cell_type": "code",
   "execution_count": 5,
   "metadata": {},
   "outputs": [
    {
     "data": {
      "text/html": [
       "<div>\n",
       "<style scoped>\n",
       "    .dataframe tbody tr th:only-of-type {\n",
       "        vertical-align: middle;\n",
       "    }\n",
       "\n",
       "    .dataframe tbody tr th {\n",
       "        vertical-align: top;\n",
       "    }\n",
       "\n",
       "    .dataframe thead th {\n",
       "        text-align: right;\n",
       "    }\n",
       "</style>\n",
       "<table border=\"1\" class=\"dataframe\">\n",
       "  <thead>\n",
       "    <tr style=\"text-align: right;\">\n",
       "      <th></th>\n",
       "      <th>Pos</th>\n",
       "      <th>Opp</th>\n",
       "      <th>Matchup Rank</th>\n",
       "      <th>Final</th>\n",
       "      <th>Avg</th>\n",
       "      <th>Ceiling</th>\n",
       "      <th>Stat Scale</th>\n",
       "      <th>FP/G</th>\n",
       "      <th>Avg Targets</th>\n",
       "      <th>Use %</th>\n",
       "    </tr>\n",
       "  </thead>\n",
       "  <tbody>\n",
       "    <tr>\n",
       "      <th>Patrick Mahomes - KC</th>\n",
       "      <td>QB</td>\n",
       "      <td>vs. IND</td>\n",
       "      <td>13</td>\n",
       "      <td>28.6228</td>\n",
       "      <td>1.0</td>\n",
       "      <td>0.0</td>\n",
       "      <td>0.650000</td>\n",
       "      <td>28.933333</td>\n",
       "      <td>NaN</td>\n",
       "      <td>0.5664</td>\n",
       "    </tr>\n",
       "    <tr>\n",
       "      <th>Alvin Kamara - NO</th>\n",
       "      <td>RB</td>\n",
       "      <td>vs. TB</td>\n",
       "      <td>30</td>\n",
       "      <td>23.3606</td>\n",
       "      <td>4.3</td>\n",
       "      <td>2.0</td>\n",
       "      <td>0.826682</td>\n",
       "      <td>19.833333</td>\n",
       "      <td>6.0</td>\n",
       "      <td>0.3344</td>\n",
       "    </tr>\n",
       "    <tr>\n",
       "      <th>David Montgomery - CHI</th>\n",
       "      <td>RB</td>\n",
       "      <td>at OAK</td>\n",
       "      <td>20</td>\n",
       "      <td>12.4653</td>\n",
       "      <td>19.6</td>\n",
       "      <td>6.0</td>\n",
       "      <td>0.966096</td>\n",
       "      <td>9.300000</td>\n",
       "      <td>3.0</td>\n",
       "      <td>0.2156</td>\n",
       "    </tr>\n",
       "    <tr>\n",
       "      <th>Julio Jones - ATL</th>\n",
       "      <td>WR</td>\n",
       "      <td>at HOU</td>\n",
       "      <td>14</td>\n",
       "      <td>26.5187</td>\n",
       "      <td>1.3</td>\n",
       "      <td>0.4</td>\n",
       "      <td>0.820558</td>\n",
       "      <td>20.000000</td>\n",
       "      <td>9.3</td>\n",
       "      <td>0.1500</td>\n",
       "    </tr>\n",
       "    <tr>\n",
       "      <th>Mike Evans - TB</th>\n",
       "      <td>WR</td>\n",
       "      <td>at NO</td>\n",
       "      <td>5</td>\n",
       "      <td>19.4957</td>\n",
       "      <td>9.4</td>\n",
       "      <td>13.2</td>\n",
       "      <td>0.844549</td>\n",
       "      <td>17.633333</td>\n",
       "      <td>8.8</td>\n",
       "      <td>0.1320</td>\n",
       "    </tr>\n",
       "    <tr>\n",
       "      <th>Zach Ertz - PHI</th>\n",
       "      <td>TE</td>\n",
       "      <td>vs. NYJ</td>\n",
       "      <td>30</td>\n",
       "      <td>14.7792</td>\n",
       "      <td>3.1</td>\n",
       "      <td>1.2</td>\n",
       "      <td>0.849482</td>\n",
       "      <td>9.833333</td>\n",
       "      <td>9.5</td>\n",
       "      <td>0.1316</td>\n",
       "    </tr>\n",
       "    <tr>\n",
       "      <th>Austin Hooper - ATL</th>\n",
       "      <td>TE</td>\n",
       "      <td>at HOU</td>\n",
       "      <td>31</td>\n",
       "      <td>11.1811</td>\n",
       "      <td>7.4</td>\n",
       "      <td>6.6</td>\n",
       "      <td>0.864289</td>\n",
       "      <td>13.066667</td>\n",
       "      <td>8.3</td>\n",
       "      <td>0.1053</td>\n",
       "    </tr>\n",
       "    <tr>\n",
       "      <th>Deshaun Watson - HOU</th>\n",
       "      <td>QB</td>\n",
       "      <td>vs. ATL</td>\n",
       "      <td>10</td>\n",
       "      <td>26.4860</td>\n",
       "      <td>2.6</td>\n",
       "      <td>1.0</td>\n",
       "      <td>0.702827</td>\n",
       "      <td>23.466667</td>\n",
       "      <td>NaN</td>\n",
       "      <td>0.5600</td>\n",
       "    </tr>\n",
       "    <tr>\n",
       "      <th>PHI - PHI</th>\n",
       "      <td>DST</td>\n",
       "      <td>vs. NYJ</td>\n",
       "      <td>3</td>\n",
       "      <td>13.1120</td>\n",
       "      <td>3.7</td>\n",
       "      <td>3.2</td>\n",
       "      <td>0.946927</td>\n",
       "      <td>3.300000</td>\n",
       "      <td>NaN</td>\n",
       "      <td>NaN</td>\n",
       "    </tr>\n",
       "  </tbody>\n",
       "</table>\n",
       "</div>"
      ],
      "text/plain": [
       "                        Pos      Opp Matchup Rank    Final   Avg  Ceiling  \\\n",
       "Patrick Mahomes - KC     QB  vs. IND           13  28.6228   1.0      0.0   \n",
       "Alvin Kamara - NO        RB   vs. TB           30  23.3606   4.3      2.0   \n",
       "David Montgomery - CHI   RB   at OAK           20  12.4653  19.6      6.0   \n",
       "Julio Jones - ATL        WR   at HOU           14  26.5187   1.3      0.4   \n",
       "Mike Evans - TB          WR    at NO            5  19.4957   9.4     13.2   \n",
       "Zach Ertz - PHI          TE  vs. NYJ           30  14.7792   3.1      1.2   \n",
       "Austin Hooper - ATL      TE   at HOU           31  11.1811   7.4      6.6   \n",
       "Deshaun Watson - HOU     QB  vs. ATL           10  26.4860   2.6      1.0   \n",
       "PHI - PHI               DST  vs. NYJ            3  13.1120   3.7      3.2   \n",
       "\n",
       "                        Stat Scale       FP/G  Avg Targets   Use %  \n",
       "Patrick Mahomes - KC      0.650000  28.933333          NaN  0.5664  \n",
       "Alvin Kamara - NO         0.826682  19.833333          6.0  0.3344  \n",
       "David Montgomery - CHI    0.966096   9.300000          3.0  0.2156  \n",
       "Julio Jones - ATL         0.820558  20.000000          9.3  0.1500  \n",
       "Mike Evans - TB           0.844549  17.633333          8.8  0.1320  \n",
       "Zach Ertz - PHI           0.849482   9.833333          9.5  0.1316  \n",
       "Austin Hooper - ATL       0.864289  13.066667          8.3  0.1053  \n",
       "Deshaun Watson - HOU      0.702827  23.466667          NaN  0.5600  \n",
       "PHI - PHI                 0.946927   3.300000          NaN     NaN  "
      ]
     },
     "execution_count": 5,
     "metadata": {},
     "output_type": "execute_result"
    }
   ],
   "source": [
    "Starters"
   ]
  },
  {
   "cell_type": "code",
   "execution_count": 6,
   "metadata": {},
   "outputs": [
    {
     "data": {
      "text/plain": [
       "176.0214"
      ]
     },
     "execution_count": 6,
     "metadata": {},
     "output_type": "execute_result"
    }
   ],
   "source": [
    "sum(Starters.Final)"
   ]
  },
  {
   "cell_type": "code",
   "execution_count": 7,
   "metadata": {},
   "outputs": [],
   "source": [
    "OppStarters = this_week(AvailableByPosition,ByPosition,FantasyRosters[\"Madison Moylers\"],Roster)[0]"
   ]
  },
  {
   "cell_type": "code",
   "execution_count": 8,
   "metadata": {},
   "outputs": [
    {
     "data": {
      "text/html": [
       "<div>\n",
       "<style scoped>\n",
       "    .dataframe tbody tr th:only-of-type {\n",
       "        vertical-align: middle;\n",
       "    }\n",
       "\n",
       "    .dataframe tbody tr th {\n",
       "        vertical-align: top;\n",
       "    }\n",
       "\n",
       "    .dataframe thead th {\n",
       "        text-align: right;\n",
       "    }\n",
       "</style>\n",
       "<table border=\"1\" class=\"dataframe\">\n",
       "  <thead>\n",
       "    <tr style=\"text-align: right;\">\n",
       "      <th></th>\n",
       "      <th>Pos</th>\n",
       "      <th>Opp</th>\n",
       "      <th>Matchup Rank</th>\n",
       "      <th>Final</th>\n",
       "      <th>Avg</th>\n",
       "      <th>Ceiling</th>\n",
       "      <th>Stat Scale</th>\n",
       "      <th>FP/G</th>\n",
       "      <th>Avg Targets</th>\n",
       "      <th>Use %</th>\n",
       "    </tr>\n",
       "  </thead>\n",
       "  <tbody>\n",
       "    <tr>\n",
       "      <th>Russell Wilson - SEA</th>\n",
       "      <td>QB</td>\n",
       "      <td>vs. LAR</td>\n",
       "      <td>25</td>\n",
       "      <td>24.595200</td>\n",
       "      <td>4.4</td>\n",
       "      <td>1.2</td>\n",
       "      <td>0.749706</td>\n",
       "      <td>27.366667</td>\n",
       "      <td>NaN</td>\n",
       "      <td>0.5600</td>\n",
       "    </tr>\n",
       "    <tr>\n",
       "      <th>Christian McCaffrey - CAR</th>\n",
       "      <td>RB</td>\n",
       "      <td>vs. JAC</td>\n",
       "      <td>25</td>\n",
       "      <td>26.892400</td>\n",
       "      <td>2.0</td>\n",
       "      <td>0.5</td>\n",
       "      <td>0.650000</td>\n",
       "      <td>23.500000</td>\n",
       "      <td>7.8</td>\n",
       "      <td>0.3822</td>\n",
       "    </tr>\n",
       "    <tr>\n",
       "      <th>Nick Chubb - CLE</th>\n",
       "      <td>RB</td>\n",
       "      <td>at SF</td>\n",
       "      <td>32</td>\n",
       "      <td>20.992200</td>\n",
       "      <td>6.1</td>\n",
       "      <td>4.4</td>\n",
       "      <td>0.901633</td>\n",
       "      <td>14.300000</td>\n",
       "      <td>4.8</td>\n",
       "      <td>0.3496</td>\n",
       "    </tr>\n",
       "    <tr>\n",
       "      <th>Julian Edelman - NE</th>\n",
       "      <td>WR</td>\n",
       "      <td>at WAS</td>\n",
       "      <td>2</td>\n",
       "      <td>16.557200</td>\n",
       "      <td>15.3</td>\n",
       "      <td>24.0</td>\n",
       "      <td>0.902419</td>\n",
       "      <td>12.100000</td>\n",
       "      <td>8.0</td>\n",
       "      <td>0.1264</td>\n",
       "    </tr>\n",
       "    <tr>\n",
       "      <th>Brandin Cooks - LAR</th>\n",
       "      <td>WR</td>\n",
       "      <td>at SEA</td>\n",
       "      <td>27</td>\n",
       "      <td>14.378000</td>\n",
       "      <td>19.1</td>\n",
       "      <td>19.8</td>\n",
       "      <td>0.950284</td>\n",
       "      <td>12.000000</td>\n",
       "      <td>7.8</td>\n",
       "      <td>0.1116</td>\n",
       "    </tr>\n",
       "    <tr>\n",
       "      <th>Eric Ebron - IND</th>\n",
       "      <td>TE</td>\n",
       "      <td>at KC</td>\n",
       "      <td>10</td>\n",
       "      <td>8.430000</td>\n",
       "      <td>11.3</td>\n",
       "      <td>4.9</td>\n",
       "      <td>0.974954</td>\n",
       "      <td>5.833333</td>\n",
       "      <td>4.0</td>\n",
       "      <td>0.0552</td>\n",
       "    </tr>\n",
       "    <tr>\n",
       "      <th>Emmanuel Sanders - DEN</th>\n",
       "      <td>WR</td>\n",
       "      <td>at LAC</td>\n",
       "      <td>17</td>\n",
       "      <td>12.462100</td>\n",
       "      <td>30.0</td>\n",
       "      <td>68.9</td>\n",
       "      <td>0.919789</td>\n",
       "      <td>14.133333</td>\n",
       "      <td>8.3</td>\n",
       "      <td>0.1131</td>\n",
       "    </tr>\n",
       "    <tr>\n",
       "      <th>Baker Mayfield - CLE</th>\n",
       "      <td>QB</td>\n",
       "      <td>at SF</td>\n",
       "      <td>24</td>\n",
       "      <td>15.263811</td>\n",
       "      <td>17.1</td>\n",
       "      <td>17.6</td>\n",
       "      <td>0.886474</td>\n",
       "      <td>13.033333</td>\n",
       "      <td>NaN</td>\n",
       "      <td>0.5200</td>\n",
       "    </tr>\n",
       "    <tr>\n",
       "      <th>MIN - MIN</th>\n",
       "      <td>DST</td>\n",
       "      <td>at NYG</td>\n",
       "      <td>12</td>\n",
       "      <td>10.648000</td>\n",
       "      <td>6.6</td>\n",
       "      <td>4.5</td>\n",
       "      <td>0.899917</td>\n",
       "      <td>7.300000</td>\n",
       "      <td>NaN</td>\n",
       "      <td>NaN</td>\n",
       "    </tr>\n",
       "  </tbody>\n",
       "</table>\n",
       "</div>"
      ],
      "text/plain": [
       "                           Pos      Opp Matchup Rank      Final   Avg  \\\n",
       "Russell Wilson - SEA        QB  vs. LAR           25  24.595200   4.4   \n",
       "Christian McCaffrey - CAR   RB  vs. JAC           25  26.892400   2.0   \n",
       "Nick Chubb - CLE            RB    at SF           32  20.992200   6.1   \n",
       "Julian Edelman - NE         WR   at WAS            2  16.557200  15.3   \n",
       "Brandin Cooks - LAR         WR   at SEA           27  14.378000  19.1   \n",
       "Eric Ebron - IND            TE    at KC           10   8.430000  11.3   \n",
       "Emmanuel Sanders - DEN      WR   at LAC           17  12.462100  30.0   \n",
       "Baker Mayfield - CLE        QB    at SF           24  15.263811  17.1   \n",
       "MIN - MIN                  DST   at NYG           12  10.648000   6.6   \n",
       "\n",
       "                           Ceiling  Stat Scale       FP/G  Avg Targets   Use %  \n",
       "Russell Wilson - SEA           1.2    0.749706  27.366667          NaN  0.5600  \n",
       "Christian McCaffrey - CAR      0.5    0.650000  23.500000          7.8  0.3822  \n",
       "Nick Chubb - CLE               4.4    0.901633  14.300000          4.8  0.3496  \n",
       "Julian Edelman - NE           24.0    0.902419  12.100000          8.0  0.1264  \n",
       "Brandin Cooks - LAR           19.8    0.950284  12.000000          7.8  0.1116  \n",
       "Eric Ebron - IND               4.9    0.974954   5.833333          4.0  0.0552  \n",
       "Emmanuel Sanders - DEN        68.9    0.919789  14.133333          8.3  0.1131  \n",
       "Baker Mayfield - CLE          17.6    0.886474  13.033333          NaN  0.5200  \n",
       "MIN - MIN                      4.5    0.899917   7.300000          NaN     NaN  "
      ]
     },
     "execution_count": 8,
     "metadata": {},
     "output_type": "execute_result"
    }
   ],
   "source": [
    "OppStarters"
   ]
  },
  {
   "cell_type": "code",
   "execution_count": 9,
   "metadata": {},
   "outputs": [
    {
     "data": {
      "text/plain": [
       "150.21891118719475"
      ]
     },
     "execution_count": 9,
     "metadata": {},
     "output_type": "execute_result"
    }
   ],
   "source": [
    "sum(OppStarters.Final)"
   ]
  },
  {
   "cell_type": "code",
   "execution_count": null,
   "metadata": {},
   "outputs": [],
   "source": [
    "Bench"
   ]
  },
  {
   "cell_type": "code",
   "execution_count": null,
   "metadata": {},
   "outputs": [],
   "source": [
    "SuggestedStreamers['FLEX'].style.format({'Info': make_clickable})"
   ]
  },
  {
   "cell_type": "code",
   "execution_count": null,
   "metadata": {},
   "outputs": [],
   "source": [
    "ROSAnalysis = rest_of_schedule(AvailableByPosition,ByPosition,FantasyRosters[User],Roster)\n",
    "MyPlayersROS = ROSAnalysis[0]\n",
    "AvailableROS = ROSAnalysis[1]\n",
    "PickUps = ROSAnalysis[2]"
   ]
  },
  {
   "cell_type": "code",
   "execution_count": null,
   "metadata": {},
   "outputs": [],
   "source": [
    "MyPlayersROS['FLEX']"
   ]
  },
  {
   "cell_type": "code",
   "execution_count": null,
   "metadata": {},
   "outputs": [],
   "source": [
    "PickUps['FLEX'].style.format({'Info': make_clickable})"
   ]
  },
  {
   "cell_type": "code",
   "execution_count": null,
   "metadata": {},
   "outputs": [],
   "source": [
    "PickUps['WR'].style.format({'Info': make_clickable})"
   ]
  },
  {
   "cell_type": "code",
   "execution_count": null,
   "metadata": {},
   "outputs": [],
   "source": [
    "PickUps['RB'].style.format({'Info': make_clickable})"
   ]
  },
  {
   "cell_type": "code",
   "execution_count": null,
   "metadata": {},
   "outputs": [],
   "source": [
    "PickUps['TE'].style.format({'Info': make_clickable})"
   ]
  },
  {
   "cell_type": "code",
   "execution_count": null,
   "metadata": {},
   "outputs": [],
   "source": [
    "PickUps['QB'].style.format({'Info': make_clickable})"
   ]
  },
  {
   "cell_type": "code",
   "execution_count": null,
   "metadata": {},
   "outputs": [],
   "source": [
    "PickUps['DST'].style.format({'Info': make_clickable})"
   ]
  },
  {
   "cell_type": "code",
   "execution_count": 10,
   "metadata": {},
   "outputs": [],
   "source": [
    "espnpg = \"https://fantasy.espn.com/apis/v3/games/ffl/seasons/2019/segments/0/leagues/375977\"#\"https://fantasy.espn.com/football/league/rosters?leagueId=375977\""
   ]
  },
  {
   "cell_type": "code",
   "execution_count": 11,
   "metadata": {
    "scrolled": true
   },
   "outputs": [],
   "source": [
    "req = rq.get(espnpg, params = {'view':'mTeam'}, cookies = {'swid':'{303B6905-9A6C-428E-BB69-059A6C828EB9}','espn_s2':'AEBDL9GE%2FIJAvrKcjm4x6MseJ3Cb%2BtYZOvtFJ3SfJZx1s94NCN5KM01Co0QoglShST8EuK0JpcJGIqkC%2FL%2BshDBC6HrRX3upkehSi82%2BBw0G224YLBMZWgDzRrZwZlQlIBdeO5IIcX6OnWYLFyG49xw2jgIKnTjNp9JxQwKFIRbgbD8WfAczuJ%2BSg0YtXmmUB1LH4ffD8SNjXJcNH3OuQjIZnANM9B5au6ZdE86fCJyzIy05PA%2Bcp%2FFvxvxrppckdUl98vWRzQOWoxf%2F9v361YiJjMigPyu8IcrKJybau9ar5g%3D%3D'})\n",
    "# sp = BeautifulSoup(req.text)\n",
    "pg = req.json()\n",
    "\n",
    "# sp = BeautifulSoup(req.text)\n",
    "# for p in sp.find_all('table'):\n",
    "#     print(p.text)"
   ]
  },
  {
   "cell_type": "code",
   "execution_count": 12,
   "metadata": {},
   "outputs": [
    {
     "data": {
      "text/plain": [
       "dict_keys(['draftDetail', 'gameId', 'id', 'members', 'scoringPeriodId', 'seasonId', 'segmentId', 'status', 'teams'])"
      ]
     },
     "execution_count": 12,
     "metadata": {},
     "output_type": "execute_result"
    }
   ],
   "source": [
    "pg.keys()"
   ]
  },
  {
   "cell_type": "code",
   "execution_count": 14,
   "metadata": {},
   "outputs": [
    {
     "data": {
      "text/plain": [
       "[(1, 'A Brown Is My Best Player '),\n",
       " (2, \"Foster'sHomeFor ImaginaryScrubs\"),\n",
       " (3, 'Cook ‘N Bergers'),\n",
       " (5, 'Wood you Cook a Green Murray?'),\n",
       " (6, 'Chubby Kittle Babies'),\n",
       " (7, 'Wilson Phillips'),\n",
       " (8, 'taco cat'),\n",
       " (9, 'Gould as a Golden Penny'),\n",
       " (10, 'Chicago Hotlinks'),\n",
       " (12, 'Too Many Cooks In The Kitchen')]"
      ]
     },
     "execution_count": 14,
     "metadata": {},
     "output_type": "execute_result"
    }
   ],
   "source": [
    "# for tm in pg['teams']:\n",
    "#     print(tm['location']+' '+tm['nickname'])#.keys()\n",
    "[(tm['id'],tm['location']+' '+tm['nickname']) for tm in pg['teams']]"
   ]
  },
  {
   "cell_type": "code",
   "execution_count": null,
   "metadata": {},
   "outputs": [],
   "source": [
    "pg['teams'][0].keys()"
   ]
  },
  {
   "cell_type": "code",
   "execution_count": null,
   "metadata": {},
   "outputs": [],
   "source": [
    "req2 = rq.get(espnpg, params = {'view':'mMatchup'}, cookies = {'swid':'{303B6905-9A6C-428E-BB69-059A6C828EB9}','espn_s2':'AEBDL9GE%2FIJAvrKcjm4x6MseJ3Cb%2BtYZOvtFJ3SfJZx1s94NCN5KM01Co0QoglShST8EuK0JpcJGIqkC%2FL%2BshDBC6HrRX3upkehSi82%2BBw0G224YLBMZWgDzRrZwZlQlIBdeO5IIcX6OnWYLFyG49xw2jgIKnTjNp9JxQwKFIRbgbD8WfAczuJ%2BSg0YtXmmUB1LH4ffD8SNjXJcNH3OuQjIZnANM9B5au6ZdE86fCJyzIy05PA%2Bcp%2FFvxvxrppckdUl98vWRzQOWoxf%2F9v361YiJjMigPyu8IcrKJybau9ar5g%3D%3D'})\n",
    "pg2 = req2.json()"
   ]
  },
  {
   "cell_type": "code",
   "execution_count": null,
   "metadata": {},
   "outputs": [],
   "source": [
    "pg2.keys()"
   ]
  },
  {
   "cell_type": "code",
   "execution_count": null,
   "metadata": {},
   "outputs": [],
   "source": [
    "pg2['teams'][0]['roster']['entries'][0][\"playerPoolEntry\"]['player'].keys()"
   ]
  },
  {
   "cell_type": "code",
   "execution_count": null,
   "metadata": {},
   "outputs": [],
   "source": [
    "for pl in pg2['teams'][1]['roster']['entries']:\n",
    "    print(pl[\"playerPoolEntry\"]['player']['fullName'],pl[\"playerPoolEntry\"]['player']['proTeamId'])"
   ]
  },
  {
   "cell_type": "code",
   "execution_count": null,
   "metadata": {},
   "outputs": [],
   "source": []
  },
  {
   "cell_type": "code",
   "execution_count": null,
   "metadata": {},
   "outputs": [],
   "source": [
    "pg2['teams'][0].keys()"
   ]
  },
  {
   "cell_type": "code",
   "execution_count": null,
   "metadata": {},
   "outputs": [],
   "source": [
    "pg2['teams'][0]['id']"
   ]
  },
  {
   "cell_type": "code",
   "execution_count": null,
   "metadata": {},
   "outputs": [],
   "source": [
    "[tm['id'] for tm in pg2['teams']]"
   ]
  },
  {
   "cell_type": "code",
   "execution_count": null,
   "metadata": {},
   "outputs": [],
   "source": [
    "FantasyRosters['Not a Robot']"
   ]
  },
  {
   "cell_type": "code",
   "execution_count": null,
   "metadata": {},
   "outputs": [],
   "source": [
    "req = rq.get('http://site.api.espn.com/apis/site/v2/sports/football/nfl/scoreboard')\n",
    "# sp = BeautifulSoup(req.text)\n",
    "pg = req.json()"
   ]
  },
  {
   "cell_type": "code",
   "execution_count": null,
   "metadata": {},
   "outputs": [],
   "source": [
    "len(pg['leagues'])"
   ]
  },
  {
   "cell_type": "code",
   "execution_count": null,
   "metadata": {},
   "outputs": [],
   "source": [
    "pg['leagues'][0].keys()"
   ]
  },
  {
   "cell_type": "code",
   "execution_count": null,
   "metadata": {},
   "outputs": [],
   "source": []
  },
  {
   "cell_type": "code",
   "execution_count": null,
   "metadata": {},
   "outputs": [],
   "source": []
  },
  {
   "cell_type": "code",
   "execution_count": null,
   "metadata": {},
   "outputs": [],
   "source": [
    "pg['sports'][0].keys()"
   ]
  },
  {
   "cell_type": "code",
   "execution_count": null,
   "metadata": {},
   "outputs": [],
   "source": [
    "nfl = pg['sports'][0]['leagues'][0]"
   ]
  },
  {
   "cell_type": "code",
   "execution_count": null,
   "metadata": {},
   "outputs": [],
   "source": [
    "where([nm['name'] == 'Football' for nm in pg['sports']])"
   ]
  },
  {
   "cell_type": "code",
   "execution_count": null,
   "metadata": {},
   "outputs": [],
   "source": [
    "nfl['teams'][0]['team'].keys()"
   ]
  },
  {
   "cell_type": "code",
   "execution_count": null,
   "metadata": {},
   "outputs": [],
   "source": [
    "nfl['teams'][0]['team']['abbreviation']"
   ]
  },
  {
   "cell_type": "code",
   "execution_count": null,
   "metadata": {},
   "outputs": [],
   "source": [
    "tmiddict = {}\n",
    "for tm in nfl['teams']:\n",
    "    tmiddict[tm['team']['id']] = tm['team']['abbreviation']"
   ]
  },
  {
   "cell_type": "code",
   "execution_count": null,
   "metadata": {},
   "outputs": [],
   "source": [
    "len(tmiddict)"
   ]
  },
  {
   "cell_type": "code",
   "execution_count": null,
   "metadata": {},
   "outputs": [],
   "source": [
    "len(nfl['teams'])"
   ]
  },
  {
   "cell_type": "code",
   "execution_count": null,
   "metadata": {},
   "outputs": [],
   "source": [
    "tmiddict"
   ]
  },
  {
   "cell_type": "code",
   "execution_count": null,
   "metadata": {},
   "outputs": [],
   "source": [
    "nfltms = {'22': 'ARI','1': 'ATL','2': 'BUF','33': 'BAL','29': 'CAR','3': 'CHI','4': 'CIN','5': 'CLE','6': 'DAL','7': 'DEN','8': 'DET','9': 'GB','34':'HOU','11': 'IND','30':'JAX','12': 'KC','24': 'LAC','14': 'LAR','15': 'MIA','16': 'MIN','17': 'NE','18': 'NO','19': 'NYG','20': 'NYJ','13': 'OAK','21': 'PHI','23': 'PIT','26': 'SEA','25': 'SF','27': 'TB','10': 'TEN'}"
   ]
  },
  {
   "cell_type": "code",
   "execution_count": null,
   "metadata": {},
   "outputs": [],
   "source": [
    "len(nfltms)"
   ]
  },
  {
   "cell_type": "code",
   "execution_count": null,
   "metadata": {},
   "outputs": [],
   "source": [
    "'28' in nfltms.keys()"
   ]
  },
  {
   "cell_type": "code",
   "execution_count": null,
   "metadata": {},
   "outputs": [],
   "source": []
  }
 ],
 "metadata": {
  "kernelspec": {
   "display_name": "Python 3",
   "language": "python",
   "name": "python3"
  },
  "language_info": {
   "codemirror_mode": {
    "name": "ipython",
    "version": 3
   },
   "file_extension": ".py",
   "mimetype": "text/x-python",
   "name": "python",
   "nbconvert_exporter": "python",
   "pygments_lexer": "ipython3",
   "version": "3.7.3"
  }
 },
 "nbformat": 4,
 "nbformat_minor": 2
}
